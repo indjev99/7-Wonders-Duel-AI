{
 "cells": [
  {
   "cell_type": "code",
   "execution_count": null,
   "metadata": {},
   "outputs": [],
   "source": [
    "from play_bga_game import BGAGame, sanitize\n",
    "from pipe_reader_writer import PipeReaderWriter"
   ]
  },
  {
   "cell_type": "code",
   "execution_count": null,
   "metadata": {},
   "outputs": [],
   "source": [
    "from selenium import webdriver\n",
    "from selenium.webdriver.common.by import By\n",
    "from selenium.webdriver.support.ui import WebDriverWait\n",
    "from selenium.webdriver.support import expected_conditions as EC\n",
    "from selenium.webdriver.firefox.options import Options\n",
    "from selenium.webdriver.firefox.service import Service\n",
    "\n",
    "from html.parser import HTMLParser\n",
    "\n",
    "import pprint\n",
    "import sys\n",
    "import re"
   ]
  },
  {
   "cell_type": "code",
   "execution_count": null,
   "metadata": {},
   "outputs": [],
   "source": [
    "class DummyPipe(PipeReaderWriter):\n",
    "    def __init__(self):\n",
    "        pass\n",
    "    def write(self, text):\n",
    "        pass"
   ]
  },
  {
   "cell_type": "code",
   "execution_count": null,
   "metadata": {},
   "outputs": [],
   "source": [
    "game = BGAGame(DummyPipe())"
   ]
  },
  {
   "cell_type": "code",
   "execution_count": null,
   "metadata": {},
   "outputs": [],
   "source": [
    "game.pipe = PipeReaderWriter('//./pipe/7wdai')\n",
    "# game.pipe = DummyPipe()\n",
    "game.reset_state()"
   ]
  },
  {
   "cell_type": "code",
   "execution_count": null,
   "metadata": {},
   "outputs": [],
   "source": [
    "game.parser.start_parse()\n",
    "game.parser.feed(game.driver.page_source)\n",
    "curr_state = game.parser.get_state()\n",
    "game.update_state(curr_state)"
   ]
  },
  {
   "cell_type": "code",
   "execution_count": 17,
   "metadata": {},
   "outputs": [
    {
     "name": "stdout",
     "output_type": "stream",
     "text": [
      "Reveal card, Palace, 15\n",
      "Reveal card, Arena, 16\n",
      "Discard card, Obelisk\n"
     ]
    },
    {
     "name": "stderr",
     "output_type": "stream",
     "text": [
      "Unexplained built wonder, Piraeus\n",
      "Unexplained built wonder, Piraeus\n",
      "Unexplained built wonder, Piraeus\n",
      "Unexplained built wonder, Piraeus\n"
     ]
    },
    {
     "name": "stdout",
     "output_type": "stream",
     "text": [
      "Build wonder, Arena, Piraeus\n"
     ]
    },
    {
     "name": "stderr",
     "output_type": "stream",
     "text": [
      "Unexplained built card, Magistrates Guild\n",
      "Unexplained built card, Magistrates Guild\n",
      "Unexplained built card, Magistrates Guild\n",
      "Unexplained built card, Magistrates Guild\n",
      "Unexplained built card, Magistrates Guild\n",
      "Unexplained built card, Magistrates Guild\n",
      "Unexplained built card, Magistrates Guild\n",
      "Unexplained built card, Magistrates Guild\n"
     ]
    },
    {
     "name": "stdout",
     "output_type": "stream",
     "text": [
      "Build card, Magistrates Guild\n",
      "Reveal card, Chamber Of Commerce, 10\n",
      "Discard card, Palace\n"
     ]
    },
    {
     "name": "stderr",
     "output_type": "stream",
     "text": [
      "Unexplained built card, Academy\n",
      "Unexplained built card, Academy\n",
      "Unexplained built card, Academy\n",
      "Unexplained built card, Academy\n",
      "Unexplained built card, Academy\n",
      "Unexplained built card, Academy\n",
      "Unexplained built card, Academy\n",
      "Unexplained built card, Academy\n"
     ]
    },
    {
     "name": "stdout",
     "output_type": "stream",
     "text": [
      "Build card, Academy\n",
      "Discard card, Tacticians Guild\n",
      "Reveal card, Merchants Guild, 9\n"
     ]
    },
    {
     "name": "stderr",
     "output_type": "stream",
     "text": [
      "Unexplained built card, Merchants Guild\n",
      "Unexplained built card, Merchants Guild\n",
      "Unexplained built card, Merchants Guild\n",
      "Unexplained built card, Merchants Guild\n",
      "Unexplained built card, Merchants Guild\n",
      "Unexplained built card, Merchants Guild\n",
      "Unexplained built card, Merchants Guild\n",
      "Unexplained built card, Merchants Guild\n"
     ]
    },
    {
     "name": "stdout",
     "output_type": "stream",
     "text": [
      "Build card, Merchants Guild\n"
     ]
    },
    {
     "name": "stderr",
     "output_type": "stream",
     "text": [
      "Unexplained built wonder, The Colossus\n",
      "Unexplained built wonder, The Colossus\n",
      "Unexplained built wonder, The Colossus\n",
      "Unexplained built wonder, The Colossus\n"
     ]
    },
    {
     "name": "stdout",
     "output_type": "stream",
     "text": [
      "Build wonder, Chamber Of Commerce, The Colossus\n"
     ]
    },
    {
     "name": "stderr",
     "output_type": "stream",
     "text": [
      "Unexplained built card, Arsenal\n",
      "Unexplained built card, Arsenal\n",
      "Unexplained built card, Arsenal\n",
      "Unexplained built card, Arsenal\n",
      "Unexplained built card, Arsenal\n",
      "Unexplained built card, Arsenal\n"
     ]
    },
    {
     "name": "stdout",
     "output_type": "stream",
     "text": [
      "Build card, Arsenal\n"
     ]
    },
    {
     "name": "stderr",
     "output_type": "stream",
     "text": [
      "Unexplained built card, Lighthouse\n",
      "Unexplained built card, Lighthouse\n",
      "Unexplained built card, Lighthouse\n"
     ]
    },
    {
     "name": "stdout",
     "output_type": "stream",
     "text": [
      "Build card, Lighthouse\n",
      "Discard card, Armory\n",
      "Reveal card, Siege Workshop, 2\n",
      "Reveal card, University, 3\n"
     ]
    },
    {
     "name": "stderr",
     "output_type": "stream",
     "text": [
      "Unexplained built wonder, The Pyramids\n",
      "Unexplained built wonder, The Pyramids\n",
      "Unexplained built wonder, The Pyramids\n"
     ]
    },
    {
     "name": "stdout",
     "output_type": "stream",
     "text": [
      "Build wonder, Siege Workshop, The Pyramids\n"
     ]
    },
    {
     "name": "stderr",
     "output_type": "stream",
     "text": [
      "Unexplained built card, Port\n",
      "Unexplained built card, Port\n",
      "Unexplained built card, Port\n",
      "Unexplained built card, Port\n",
      "Unexplained built card, Port\n",
      "Unexplained built card, Port\n"
     ]
    },
    {
     "name": "stdout",
     "output_type": "stream",
     "text": [
      "Build card, Port\n",
      "Reveal card, Pretorium, 4\n"
     ]
    },
    {
     "name": "stderr",
     "output_type": "stream",
     "text": [
      "Unexplained built wonder, The Sphinx\n",
      "Unexplained built wonder, The Sphinx\n"
     ]
    },
    {
     "name": "stdout",
     "output_type": "stream",
     "text": [
      "Build wonder, University, The Sphinx\n",
      "Reveal wonder, The Colossus\n",
      "Select wonder, The Colossus\n",
      "Reveal wonder, The Statue of Zeus\n",
      "Select wonder, The Statue of Zeus\n",
      "Reveal wonder, Piraeus\n",
      "Select wonder, Piraeus\n",
      "Reveal wonder, The Hanging Gardens\n",
      "Select wonder, The Hanging Gardens\n",
      "Reveal wonder, The Sphinx\n",
      "Select wonder, The Sphinx\n",
      "Reveal wonder, The Great Library\n",
      "Select wonder, The Great Library\n",
      "Reveal wonder, The Pyramids\n",
      "Select wonder, The Pyramids\n"
     ]
    },
    {
     "name": "stderr",
     "output_type": "stream",
     "text": [
      "Unexplained built card, Study\n",
      "Unexplained built card, Study\n",
      "Unexplained built card, Study\n",
      "Unexplained built card, Study\n",
      "Unexplained built card, Study\n",
      "Unexplained built card, Study\n"
     ]
    },
    {
     "name": "stdout",
     "output_type": "stream",
     "text": [
      "Build card, Study\n",
      "Build token, Mathematics\n",
      "Discard card, Pretorium\n"
     ]
    },
    {
     "name": "stderr",
     "output_type": "stream",
     "text": [
      "Unexplained built card, Circus\n",
      "Unexplained built card, Circus\n",
      "Unexplained built card, Circus\n"
     ]
    },
    {
     "name": "stdout",
     "output_type": "stream",
     "text": [
      "Build card, Circus\n"
     ]
    },
    {
     "ename": "KeyboardInterrupt",
     "evalue": "",
     "output_type": "error",
     "traceback": [
      "\u001b[1;31m---------------------------------------------------------------------------\u001b[0m",
      "\u001b[1;31mKeyboardInterrupt\u001b[0m                         Traceback (most recent call last)",
      "Cell \u001b[1;32mIn[17], line 1\u001b[0m\n\u001b[1;32m----> 1\u001b[0m game\u001b[39m.\u001b[39;49mplay_game()\n",
      "File \u001b[1;32mc:\\GitHub\\7-Wonders-Duel-AI\\scripts\\play_bga_game.py:481\u001b[0m, in \u001b[0;36mBGAGame.play_game\u001b[1;34m(self)\u001b[0m\n\u001b[0;32m    479\u001b[0m \u001b[39mtry\u001b[39;00m:\n\u001b[0;32m    480\u001b[0m     \u001b[39mself\u001b[39m\u001b[39m.\u001b[39mparser\u001b[39m.\u001b[39mstart_parse()\n\u001b[1;32m--> 481\u001b[0m     \u001b[39mself\u001b[39;49m\u001b[39m.\u001b[39;49mparser\u001b[39m.\u001b[39;49mfeed(\u001b[39mself\u001b[39;49m\u001b[39m.\u001b[39;49mdriver\u001b[39m.\u001b[39;49mpage_source)\n\u001b[0;32m    482\u001b[0m     curr_state \u001b[39m=\u001b[39m \u001b[39mself\u001b[39m\u001b[39m.\u001b[39mparser\u001b[39m.\u001b[39mget_state()\n\u001b[0;32m    483\u001b[0m     \u001b[39mself\u001b[39m\u001b[39m.\u001b[39mupdate_state(curr_state)\n",
      "File \u001b[1;32mc:\\Python311\\Lib\\html\\parser.py:110\u001b[0m, in \u001b[0;36mHTMLParser.feed\u001b[1;34m(self, data)\u001b[0m\n\u001b[0;32m    104\u001b[0m \u001b[39m\u001b[39m\u001b[39mr\u001b[39m\u001b[39m\"\"\"Feed data to the parser.\u001b[39;00m\n\u001b[0;32m    105\u001b[0m \n\u001b[0;32m    106\u001b[0m \u001b[39mCall this as often as you want, with as little or as much text\u001b[39;00m\n\u001b[0;32m    107\u001b[0m \u001b[39mas you want (may include '\\n').\u001b[39;00m\n\u001b[0;32m    108\u001b[0m \u001b[39m\"\"\"\u001b[39;00m\n\u001b[0;32m    109\u001b[0m \u001b[39mself\u001b[39m\u001b[39m.\u001b[39mrawdata \u001b[39m=\u001b[39m \u001b[39mself\u001b[39m\u001b[39m.\u001b[39mrawdata \u001b[39m+\u001b[39m data\n\u001b[1;32m--> 110\u001b[0m \u001b[39mself\u001b[39;49m\u001b[39m.\u001b[39;49mgoahead(\u001b[39m0\u001b[39;49m)\n",
      "File \u001b[1;32mc:\\Python311\\Lib\\html\\parser.py:170\u001b[0m, in \u001b[0;36mHTMLParser.goahead\u001b[1;34m(self, end)\u001b[0m\n\u001b[0;32m    168\u001b[0m \u001b[39mif\u001b[39;00m startswith(\u001b[39m'\u001b[39m\u001b[39m<\u001b[39m\u001b[39m'\u001b[39m, i):\n\u001b[0;32m    169\u001b[0m     \u001b[39mif\u001b[39;00m starttagopen\u001b[39m.\u001b[39mmatch(rawdata, i): \u001b[39m# < + letter\u001b[39;00m\n\u001b[1;32m--> 170\u001b[0m         k \u001b[39m=\u001b[39m \u001b[39mself\u001b[39;49m\u001b[39m.\u001b[39;49mparse_starttag(i)\n\u001b[0;32m    171\u001b[0m     \u001b[39melif\u001b[39;00m startswith(\u001b[39m\"\u001b[39m\u001b[39m</\u001b[39m\u001b[39m\"\u001b[39m, i):\n\u001b[0;32m    172\u001b[0m         k \u001b[39m=\u001b[39m \u001b[39mself\u001b[39m\u001b[39m.\u001b[39mparse_endtag(i)\n",
      "File \u001b[1;32mc:\\Python311\\Lib\\html\\parser.py:337\u001b[0m, in \u001b[0;36mHTMLParser.parse_starttag\u001b[1;34m(self, i)\u001b[0m\n\u001b[0;32m    335\u001b[0m     \u001b[39mself\u001b[39m\u001b[39m.\u001b[39mhandle_startendtag(tag, attrs)\n\u001b[0;32m    336\u001b[0m \u001b[39melse\u001b[39;00m:\n\u001b[1;32m--> 337\u001b[0m     \u001b[39mself\u001b[39;49m\u001b[39m.\u001b[39;49mhandle_starttag(tag, attrs)\n\u001b[0;32m    338\u001b[0m     \u001b[39mif\u001b[39;00m tag \u001b[39min\u001b[39;00m \u001b[39mself\u001b[39m\u001b[39m.\u001b[39mCDATA_CONTENT_ELEMENTS:\n\u001b[0;32m    339\u001b[0m         \u001b[39mself\u001b[39m\u001b[39m.\u001b[39mset_cdata_mode(tag)\n",
      "File \u001b[1;32mc:\\GitHub\\7-Wonders-Duel-AI\\scripts\\play_bga_game.py:133\u001b[0m, in \u001b[0;36mBGAParser.handle_starttag\u001b[1;34m(self, tag, attrs)\u001b[0m\n\u001b[0;32m    130\u001b[0m     \u001b[39mself\u001b[39m\u001b[39m.\u001b[39mhandle_card()\n\u001b[0;32m    132\u001b[0m \u001b[39mif\u001b[39;00m \u001b[39m'\u001b[39m\u001b[39mprogress_token progress_token_small\u001b[39m\u001b[39m'\u001b[39m \u001b[39min\u001b[39;00m attrs[\u001b[39m'\u001b[39m\u001b[39mclass\u001b[39m\u001b[39m'\u001b[39m]:\n\u001b[1;32m--> 133\u001b[0m     \u001b[39mself\u001b[39;49m\u001b[39m.\u001b[39;49mhandle_token()\n\u001b[0;32m    135\u001b[0m \u001b[39mif\u001b[39;00m \u001b[39m'\u001b[39m\u001b[39mwonder wonder_small\u001b[39m\u001b[39m'\u001b[39m \u001b[39min\u001b[39;00m attrs[\u001b[39m'\u001b[39m\u001b[39mclass\u001b[39m\u001b[39m'\u001b[39m]:\n\u001b[0;32m    136\u001b[0m     \u001b[39mself\u001b[39m\u001b[39m.\u001b[39mhandle_wonder()\n",
      "File \u001b[1;32mc:\\GitHub\\7-Wonders-Duel-AI\\scripts\\play_bga_game.py:83\u001b[0m, in \u001b[0;36mBGAParser.handle_token\u001b[1;34m(self)\u001b[0m\n\u001b[0;32m     81\u001b[0m \u001b[39mprint\u001b[39m(\u001b[39m'\u001b[39m\u001b[39m'\u001b[39m, file\u001b[39m=\u001b[39mextralog)\n\u001b[0;32m     82\u001b[0m \u001b[39mprint\u001b[39m(\u001b[39m'\u001b[39m\u001b[39mTOKEN:\u001b[39m\u001b[39m'\u001b[39m, file\u001b[39m=\u001b[39mextralog)\n\u001b[1;32m---> 83\u001b[0m \u001b[39mprint\u001b[39m(\u001b[39mself\u001b[39m\u001b[39m.\u001b[39mstack, file\u001b[39m=\u001b[39mextralog)\n\u001b[0;32m     84\u001b[0m \u001b[39mprint\u001b[39m(\u001b[39m'\u001b[39m\u001b[39m'\u001b[39m, file\u001b[39m=\u001b[39mextralog)\n\u001b[0;32m     86\u001b[0m container \u001b[39m=\u001b[39m \u001b[39mself\u001b[39m\u001b[39m.\u001b[39mstack[\u001b[39m-\u001b[39m\u001b[39m3\u001b[39m]\n",
      "\u001b[1;31mKeyboardInterrupt\u001b[0m: "
     ]
    }
   ],
   "source": [
    "game.play_game()"
   ]
  },
  {
   "cell_type": "code",
   "execution_count": null,
   "metadata": {},
   "outputs": [],
   "source": [
    "# https://boardgamearena.com/archive/replay/230119-1002/?table=341478049&player=90646363&comments=93827465;"
   ]
  }
 ],
 "metadata": {
  "kernelspec": {
   "display_name": "Python 3",
   "language": "python",
   "name": "python3"
  },
  "language_info": {
   "codemirror_mode": {
    "name": "ipython",
    "version": 3
   },
   "file_extension": ".py",
   "mimetype": "text/x-python",
   "name": "python",
   "nbconvert_exporter": "python",
   "pygments_lexer": "ipython3",
   "version": "3.11.0"
  },
  "orig_nbformat": 4,
  "vscode": {
   "interpreter": {
    "hash": "c261aea317cc0286b3b3261fbba9abdec21eaa57589985bb7a274bf54d6cc0a7"
   }
  }
 },
 "nbformat": 4,
 "nbformat_minor": 2
}
